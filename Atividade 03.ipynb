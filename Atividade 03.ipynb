{
 "cells": [
  {
   "cell_type": "markdown",
   "id": "ebfbea4e",
   "metadata": {},
   "source": [
    "## Desafio"
   ]
  },
  {
   "cell_type": "markdown",
   "id": "c0c42967",
   "metadata": {},
   "source": [
    "1. Crie uma tabela _orders_by_year_ a partir de _orders_ que agrupa a quantidade de pedidos por ano, considerando a coluna _order_approved_at_"
   ]
  },
  {
   "cell_type": "code",
   "execution_count": null,
   "id": "606da6f8",
   "metadata": {},
   "outputs": [],
   "source": [
    "{{ config(materialized='table') }}\n",
    "select \n",
    "  extract(year from date(order_approved_at)) as year, \n",
    "  count(order_id) as total\n",
    "  from shop.orders \n",
    "  group by 1"
   ]
  },
  {
   "cell_type": "markdown",
   "id": "aa520524",
   "metadata": {},
   "source": [
    "2. Crie uma visão que agrega os totais de pedidos por estado. Considere as tabelas _customers_ para obter os estados (coluna _customer_state_) e _orders_ para contabilizar a quantidade de pedidos."
   ]
  },
  {
   "cell_type": "code",
   "execution_count": null,
   "id": "6db7dfb4",
   "metadata": {},
   "outputs": [],
   "source": [
    "SELECT customers.customer_state, count(orders.order_id) as total\n",
    "FROM `shop.orders` as orders \n",
    "INNER JOIN `shop.customers` as customers ON customers.customer_id = orders.customer_id\n",
    "group by customers.customer_state\n"
   ]
  },
  {
   "cell_type": "markdown",
   "id": "9c3ad0cc",
   "metadata": {},
   "source": [
    "3. Crie uma nova visão chamada _customers_by_region_ que utiliza os dados da tabela _customers_with_region_. A visão deve realizar uma agregação por região e contar o número de clientes em cada uma delas."
   ]
  },
  {
   "cell_type": "code",
   "execution_count": null,
   "id": "4c76832e",
   "metadata": {},
   "outputs": [],
   "source": [
    "{{ config(materialized='table') }}\n",
    "\n",
    "SELECT \n",
    "CASE \n",
    "    WHEN customers.customer_state IN ('SP', 'RJ', 'MG', 'ES') THEN 'Sudeste'\n",
    "    WHEN customers.customer_state IN ('RS', 'ES', 'PR') THEN 'Sul'\n",
    "    WHEN customers.customer_state IN ('MT', 'MS', 'GO', 'DF') THEN 'Centro-Oeste'\n",
    "    WHEN customers.customer_state IN ('CE', 'PI', 'MA', 'BA', 'AL', 'PE', 'PB', 'RN') THEN 'Nordeste'\n",
    "    WHEN customers.customer_state IN ('RR', 'AP', 'PA', 'AM', 'AC', 'RO', 'TO') THEN 'Norte'\n",
    "    ELSE 'SEM REGIAO'\n",
    "END AS QUANTIDADE_REGIAO,\n",
    "\n",
    "count(customers.customer_id) as TOTAL\n",
    "FROM `shop.customers` as customers \n",
    "group by QUANTIDADE_REGIAO\n",
    "order by QUANTIDADE_REGIAO"
   ]
  },
  {
   "cell_type": "markdown",
   "id": "b1ddd98b",
   "metadata": {},
   "source": [
    "4. Crie uma nova tabela chamada _customers_with_region_ que utiliza os dados da tabela customers como base e adiciona uma nova coluna region que é calculada a partir da coluna customer_state. \n",
    " \n",
    " **Dica**: utilize uma expressão CASE.\n",
    " \n",
    " **Exemplo**:\n",
    " \n",
    " CASE\n",
    "        WHEN state IN ('SP', 'RJ') THEN 'Sudeste'\n",
    "        \n",
    " CASE\n",
    "        WHEN state IN ('CE', 'PI', 'MA', 'BA') THEN 'Nordeste'"
   ]
  },
  {
   "cell_type": "code",
   "execution_count": null,
   "id": "d6e33b66",
   "metadata": {},
   "outputs": [],
   "source": [
    "{{ config(materialized='table') }}\n",
    "\n",
    "SELECT   customers.customer_id,customers.customer_unique_id, customers.customer_zip_code_prefix,\n",
    "         customers.customer_city, customers.customer_state,\n",
    "CASE \n",
    "    WHEN customers.customer_state IN ('SP', 'RJ', 'MG', 'ES') THEN 'Sudeste'\n",
    "    WHEN customers.customer_state IN ('RS', 'ES', 'PR') THEN 'Sul'\n",
    "    WHEN customers.customer_state IN ('MT', 'MS', 'GO', 'DF') THEN 'Centro-Oeste'\n",
    "    WHEN customers.customer_state IN ('CE', 'PI', 'MA', 'BA', 'AL', 'PE', 'PB', 'RN') THEN 'Nordeste'\n",
    "    WHEN customers.customer_state IN ('RR', 'AP', 'PA', 'AM', 'AC', 'RO', 'TO') THEN 'Norte'\n",
    "    ELSE 'SEM REGIAO'\n",
    "END AS Regiao,\n",
    "\n",
    "FROM `shop.customers` as customers "
   ]
  },
  {
   "cell_type": "markdown",
   "id": "f79000d1",
   "metadata": {},
   "source": [
    "5. Crie um novo modelo no diretório models/ com o nome *items_costs.sql* e defina uma consulta SQL que selecione algumas colunas da tabela order_items e calcule o preço total de cada item."
   ]
  },
  {
   "cell_type": "code",
   "execution_count": null,
   "id": "cd6254f0",
   "metadata": {},
   "outputs": [],
   "source": [
    "select order_items.product_id as  PRODUTO, sum(order_items.price) as SOMA_PRODUTOS\n",
    "FROM `shop.order_items` as order_items group by order_items.product_id;  "
   ]
  },
  {
   "cell_type": "markdown",
   "id": "08cc4c02",
   "metadata": {},
   "source": [
    "6. Crie um novo modelo no diretório models/ com o nome _orders_costs.sql_ e defina uma consulta SQL que agregue os dados da tabela orders e da tabela order_items para calcular o preço total de cada pedido."
   ]
  },
  {
   "cell_type": "code",
   "execution_count": null,
   "id": "74c1fb1e",
   "metadata": {},
   "outputs": [],
   "source": []
  }
 ],
 "metadata": {
  "kernelspec": {
   "display_name": "base",
   "language": "python",
   "name": "python3"
  },
  "language_info": {
   "codemirror_mode": {
    "name": "ipython",
    "version": 3
   },
   "file_extension": ".py",
   "mimetype": "text/x-python",
   "name": "python",
   "nbconvert_exporter": "python",
   "pygments_lexer": "ipython3",
   "version": "3.9.13"
  },
  "vscode": {
   "interpreter": {
    "hash": "8bd487c07a1b8a9b03c3a7704d2d29559c0cde51a7da433787a93edcc5a8a743"
   }
  }
 },
 "nbformat": 4,
 "nbformat_minor": 5
}
